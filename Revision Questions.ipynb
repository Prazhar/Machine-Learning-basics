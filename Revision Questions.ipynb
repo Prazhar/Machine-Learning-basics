{
 "cells": [
  {
   "cell_type": "markdown",
   "id": "b715cac5",
   "metadata": {},
   "source": [
    "### Linear Regression"
   ]
  },
  {
   "cell_type": "markdown",
   "id": "226d43b5",
   "metadata": {},
   "source": [
    "1.\tWhy do we have to perform EDA before fitting a model to the data?\n",
    "2.\tWhat is a parameter?\n",
    "3.\tWhat is correlation?\n",
    "4.\tWhat does negative correlation mean?\n",
    "5.\tHow can you find correlation between variables in Python?\n",
    "6.\tWhat is causation? Explain difference between correlation and causation with an example.\n",
    "7.\tDefine Linear Regression.\n",
    "8.\tWhat is univariate linear regression?\n",
    "9.\tWhat is multivariate linear regression?\n",
    "10.\tWhat are weights and bias?\n",
    "11.\tWhat are inputs and targets?\n",
    "12.\tWhat is loss/cost function?\n",
    "13.\tWhat is residual? \n",
    "14.\tWhat is RMSE value? When and why do we use it?\n",
    "15.\tWhat is an Optimizer? What are different types of optimizers? Explain each with an example.\n",
    "16.\tWhat library is available in Python to perform Linear Regression?\n",
    "17.\tWhat is <code>sklearn.linear_model </code>?\n",
    "18.\tWhat does <code>model.fit()</code> do? What arguments must be given?\n",
    "19.\tWhat does <code>model.predict()</code> do? What arguments must be given?\n",
    "20.\tHow do we calculate RMSE values?\n",
    "21.\tWhat is <code>model.coef_</code>?\n",
    "22.\tWhat is <code>model.intercept_</code>?\n",
    "23.\tWhat is SGDRegressor? How is it different from Linear Regression?\n",
    "24.\tDefine Machine Learning. What are the main components in Machine Learning?\n",
    "25.\tHow does loss value help in determining whether the model is good or not?\n",
    "26.\tWhat are continuous and categorical variables?\n",
    "27.\tHow do we handle categorical variables in Machine Learning? What are the common techniques?\n",
    "28.\tWhat is feature scaling? How does it help in Machine Learning?\n",
    "29.\tHow do we perform scaling in Python?\n",
    "30.\tWhat is <code>sklearn.preprocessing</code>?\n",
    "31.\tWhat is a Test set?\n",
    "32.\tHow do we split data for model fitting (training and testing) in Python?\n",
    "33.\tHow do you approach a Machine Learning problem?"
   ]
  },
  {
   "cell_type": "code",
   "execution_count": null,
   "id": "f1548b60",
   "metadata": {},
   "outputs": [],
   "source": []
  }
 ],
 "metadata": {
  "kernelspec": {
   "display_name": "Python 3 (ipykernel)",
   "language": "python",
   "name": "python3"
  },
  "language_info": {
   "codemirror_mode": {
    "name": "ipython",
    "version": 3
   },
   "file_extension": ".py",
   "mimetype": "text/x-python",
   "name": "python",
   "nbconvert_exporter": "python",
   "pygments_lexer": "ipython3",
   "version": "3.9.13"
  }
 },
 "nbformat": 4,
 "nbformat_minor": 5
}
